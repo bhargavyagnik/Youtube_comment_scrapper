{
 "cells": [
  {
   "cell_type": "markdown",
   "metadata": {},
   "source": [
    "# YouTube Comment Scrapper"
   ]
  },
  {
   "cell_type": "markdown",
   "metadata": {},
   "source": [
    "Using Selenium and Chromedriver I have tried to make a Youtube Comment Scrapper. Selenium is a portable framework for testing web applications. Selenium provides a playback tool for authoring functional tests without the need to learn a test scripting language"
   ]
  },
  {
   "cell_type": "markdown",
   "metadata": {},
   "source": [
    "### Import the following Libraries first"
   ]
  },
  {
   "cell_type": "code",
   "execution_count": 1,
   "metadata": {},
   "outputs": [],
   "source": [
    "from selenium import webdriver # Run the Selenium webdriver which would load the browser defined\n",
    "import time # for waiting to load the pages\n",
    "import os #Change environment for webdriver \n",
    "from selenium.webdriver.common.keys import Keys # For Controlling the Scroll, we import keys from the given package\n",
    "import pandas as pd #For converting it to Dataframe and saving into a CSV file"
   ]
  },
  {
   "cell_type": "markdown",
   "metadata": {},
   "source": [
    "You need to assign your path to the chrome driver so that it can assign its ennviromnent to selenium, pass url of the video in order to load that page on the browser"
   ]
  },
  {
   "cell_type": "code",
   "execution_count": 3,
   "metadata": {},
   "outputs": [],
   "source": [
    "chromedriver = \"D:/chromedriver\"\n",
    "os.environ[\"webdriver.chrome.driver\"] = chromedriver\n",
    "driver = webdriver.Chrome(chromedriver)\n",
    "base_url = \"https://www.youtube.com/watch?v=TSdmciOBA2M&t=18s\"\n",
    "driver.get(base_url)"
   ]
  },
  {
   "cell_type": "markdown",
   "metadata": {},
   "source": [
    "For the Comments we need to scroll down, so this part covers how to scroll in Youtube. You can scroll down in selenium with a following code too but Youtube has an unknown length and it does not return the Scroll height unlike other pages on the internet. So this is the best trick to scroll on youtube.You wont find it anywhere over the internet"
   ]
  },
  {
   "cell_type": "code",
   "execution_count": 4,
   "metadata": {},
   "outputs": [],
   "source": [
    "scroll=0\n",
    "#Scroll 15 gives around 300 comments\n",
    "while scroll<13:\n",
    "    try:\n",
    "        time.sleep(3)\n",
    "        driver.find_element_by_tag_name('body').send_keys(Keys.END)\n",
    "        scroll+=1\n",
    "    except Exception as s:\n",
    "        print(s)"
   ]
  },
  {
   "cell_type": "markdown",
   "metadata": {},
   "source": [
    "Now we use the traditional method for scrapping i.e. we find where the comments are stored in the html by using a function called 'find_elements' . There are various methods to find the attribute but here i have used its xpath to find its location.\n",
    "This is stored in a list  which is then used to store in the dataframe"
   ]
  },
  {
   "cell_type": "code",
   "execution_count": 5,
   "metadata": {},
   "outputs": [
    {
     "name": "stdout",
     "output_type": "stream",
     "text": [
      "260\n"
     ]
    }
   ],
   "source": [
    "name_elems = driver.find_elements_by_xpath('//*[@id=\"author-text\"]')\n",
    "comment_elems = driver.find_elements_by_xpath('//*[@id=\"content-text\"]')\n",
    "num_of_names = len(name_elems)\n",
    "print(num_of_names)"
   ]
  },
  {
   "cell_type": "code",
   "execution_count": 6,
   "metadata": {},
   "outputs": [],
   "source": [
    "comments_list, users_list = [], []\n",
    "\n",
    "for i in range(num_of_names):\n",
    "    username = name_elems[i].text\n",
    "    comment = comment_elems[i].text\n",
    "    #print(username + \": \" + comment)\n",
    "    comments_list.append(comment)\n",
    "    users_list.append(username)\n",
    "df = pd.DataFrame({\"user\": users_list, \"comment\": comments_list})\n",
    "df.to_csv('HindustaniBhau.csv',index=False)"
   ]
  },
  {
   "cell_type": "code",
   "execution_count": 7,
   "metadata": {},
   "outputs": [
    {
     "data": {
      "text/html": [
       "<div>\n",
       "<style scoped>\n",
       "    .dataframe tbody tr th:only-of-type {\n",
       "        vertical-align: middle;\n",
       "    }\n",
       "\n",
       "    .dataframe tbody tr th {\n",
       "        vertical-align: top;\n",
       "    }\n",
       "\n",
       "    .dataframe thead th {\n",
       "        text-align: right;\n",
       "    }\n",
       "</style>\n",
       "<table border=\"1\" class=\"dataframe\">\n",
       "  <thead>\n",
       "    <tr style=\"text-align: right;\">\n",
       "      <th></th>\n",
       "      <th>user</th>\n",
       "      <th>comment</th>\n",
       "    </tr>\n",
       "  </thead>\n",
       "  <tbody>\n",
       "    <tr>\n",
       "      <th>0</th>\n",
       "      <td>10K Subscribers Without Any Videos Challenge</td>\n",
       "      <td>Dislikes karne wale ke muh main\\n \\n👇 itne log...</td>\n",
       "    </tr>\n",
       "    <tr>\n",
       "      <th>1</th>\n",
       "      <td>Jack Watson</td>\n",
       "      <td>Deepak ke har hole me kitne Lund\\n1Like =  100...</td>\n",
       "    </tr>\n",
       "    <tr>\n",
       "      <th>2</th>\n",
       "      <td>Mohd Samer</td>\n",
       "      <td>Deepak Kalal bhi ek gali hai appne aap me chut...</td>\n",
       "    </tr>\n",
       "    <tr>\n",
       "      <th>3</th>\n",
       "      <td>ashish chanchlani vines</td>\n",
       "      <td>😠😠😠Jai Hind dosto 😠😠deepak  ki maa chodne kon ...</td>\n",
       "    </tr>\n",
       "    <tr>\n",
       "      <th>4</th>\n",
       "      <td>Raju Mandal</td>\n",
       "      <td>Who like bhau??😎😎😎great gut Hindustani bhau</td>\n",
       "    </tr>\n",
       "  </tbody>\n",
       "</table>\n",
       "</div>"
      ],
      "text/plain": [
       "                                           user  \\\n",
       "0  10K Subscribers Without Any Videos Challenge   \n",
       "1                                   Jack Watson   \n",
       "2                                    Mohd Samer   \n",
       "3                       ashish chanchlani vines   \n",
       "4                                   Raju Mandal   \n",
       "\n",
       "                                             comment  \n",
       "0  Dislikes karne wale ke muh main\\n \\n👇 itne log...  \n",
       "1  Deepak ke har hole me kitne Lund\\n1Like =  100...  \n",
       "2  Deepak Kalal bhi ek gali hai appne aap me chut...  \n",
       "3  😠😠😠Jai Hind dosto 😠😠deepak  ki maa chodne kon ...  \n",
       "4        Who like bhau??😎😎😎great gut Hindustani bhau  "
      ]
     },
     "execution_count": 7,
     "metadata": {},
     "output_type": "execute_result"
    }
   ],
   "source": [
    "df.head()"
   ]
  },
  {
   "cell_type": "code",
   "execution_count": null,
   "metadata": {},
   "outputs": [],
   "source": []
  }
 ],
 "metadata": {
  "kernelspec": {
   "display_name": "Python 3",
   "language": "python",
   "name": "python3"
  },
  "language_info": {
   "codemirror_mode": {
    "name": "ipython",
    "version": 3
   },
   "file_extension": ".py",
   "mimetype": "text/x-python",
   "name": "python",
   "nbconvert_exporter": "python",
   "pygments_lexer": "ipython3",
   "version": "3.6.8"
  }
 },
 "nbformat": 4,
 "nbformat_minor": 2
}
